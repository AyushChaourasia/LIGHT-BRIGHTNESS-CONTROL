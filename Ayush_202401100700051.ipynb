{
  "nbformat": 4,
  "nbformat_minor": 0,
  "metadata": {
    "colab": {
      "provenance": []
    },
    "kernelspec": {
      "name": "python3",
      "display_name": "Python 3"
    },
    "language_info": {
      "name": "python"
    }
  },
  "cells": [
    {
      "cell_type": "code",
      "execution_count": 1,
      "metadata": {
        "colab": {
          "base_uri": "https://localhost:8080/"
        },
        "id": "a505XV_0ZJ4W",
        "outputId": "cbce9e74-9623-4869-8535-4dd911ee0f42"
      },
      "outputs": [
        {
          "output_type": "stream",
          "name": "stdout",
          "text": [
            "Welcome to LED Brightness Control!\n",
            "Commands:\n",
            "'i' to increase brightness\n",
            "'d' to decrease brightness\n",
            "'q' to quit the program\n",
            "Enter command: i\n",
            "Brightness increased to: 60%\n",
            "Brightness Visual: [||||||]\n",
            "\n",
            "Enter command: d\n",
            "Brightness decreased to: 50%\n",
            "Brightness Visual: [|||||]\n",
            "\n",
            "Enter command: q\n",
            "Exiting LED Brightness Control. Goodbye!\n"
          ]
        }
      ],
      "source": [
        "#CASE STUDY 2: LED BRIGHTNESS CONTROL\n",
        "def led_brightness_control():\n",
        "    # 1. Set minimum limit, maximum limit, and step size\n",
        "    min_brightness = 0\n",
        "    max_brightness = 100\n",
        "    step_size = 10\n",
        "    brightness = 50  # Starting brightness level\n",
        "\n",
        "    # 2. Instructions for the user\n",
        "    print(\"Welcome to LED Brightness Control!\")\n",
        "    print(\"Commands:\")\n",
        "    print(\"'i' to increase brightness\")\n",
        "    print(\"'d' to decrease brightness\")\n",
        "    print(\"'q' to quit the program\")\n",
        "\n",
        "    # 3. Continuous loop until the user exits\n",
        "    while True:\n",
        "        # 4. Request command from the user\n",
        "        command = input(\"Enter command: \").strip().lower()\n",
        "\n",
        "        if command == 'i':\n",
        "            # 5. Increase brightness with max limit check\n",
        "            if brightness + step_size <= max_brightness:\n",
        "                brightness += step_size\n",
        "                print(f\"Brightness increased to: {brightness}%\")\n",
        "            else:\n",
        "                print(\"Brightness is already at maximum!\")\n",
        "\n",
        "        elif command == 'd':\n",
        "            # 5. Decrease brightness with min limit check\n",
        "            if brightness - step_size >= min_brightness:\n",
        "                brightness -= step_size\n",
        "                print(f\"Brightness decreased to: {brightness}%\")\n",
        "            else:\n",
        "                print(\"Brightness is already at minimum!\")\n",
        "\n",
        "        elif command == 'q':\n",
        "            # Exit the loop\n",
        "            print(\"Exiting LED Brightness Control. Goodbye!\")\n",
        "            break\n",
        "\n",
        "        else:\n",
        "            # Handle invalid commands\n",
        "            print(\"Invalid command. Please try again.\")\n",
        "\n",
        "        # 6. Visual representation of the brightness level\n",
        "        visual = '|' * (brightness // step_size)\n",
        "        print(f\"Brightness Visual: [{visual}]\\n\")\n",
        "\n",
        "\n",
        "# Run the LED Brightness Control program\n",
        "led_brightness_control()\n"
      ]
    }
  ]
}